{
 "cells": [
  {
   "cell_type": "code",
   "execution_count": null,
   "metadata": {},
   "outputs": [],
   "source": [
    "def pred_by_restore(checkpoint_path, W5, b5, layer_5, y_pred, keep_prob, Y_one_hot, X_data, X, y):\n",
    "    \n",
    "    '''\n",
    "    , , , layer_5, y_pred, keep_prob, Y_one_hot, X_data, , y\n",
    "    '''\n",
    "    \n",
    "    predict_list=[]\n",
    "    \n",
    "    #hypothesis\n",
    "    hypothesis = tf.nn.sigmoid(tf.matmul(X, W5) + b5)\n",
    "    \n",
    "    #prediction\n",
    "    prediction = tf.argmax(hypothesis, 1) \n",
    "    \n",
    "    #sess\n",
    "    sess = tf.Session()\n",
    "    \n",
    "    #restore\n",
    "    saver = tf.train.Saver()\n",
    "    sess.run(tf.global_variables_initializer())\n",
    "    saver.restore(sess, tf.train.latest_checkpoint(checkpoint_path))\n",
    "\n",
    "    pred = sess.run(prediction, feed_dict={ X : X_data})\n",
    "    pred_list = sess.run(hypothesis,  feed_dict={ X: X_data, y: pred_to_list(pred)}).tolist()\n",
    "\n",
    "    for i in range(len(pred_list)):\n",
    "        temp=[]\n",
    "        pred_list_sort, pred_list_index = sorted(pred_list[i],reverse=True),[]\n",
    "        \n",
    "        for j in range(len(pred_list[i])):\n",
    "            pred_list_index.append(pred_list[i].index(pred_list_sort[j]))\n",
    "            \n",
    "        temp.append(pred_list_sort)\n",
    "        temp.append(pred_list_index)\n",
    "        predict_list.append(temp)\n",
    "        \n",
    "    return predict_list"
   ]
  }
 ],
 "metadata": {
  "kernelspec": {
   "display_name": "Python 3",
   "language": "python",
   "name": "python3"
  },
  "language_info": {
   "codemirror_mode": {
    "name": "ipython",
    "version": 3
   },
   "file_extension": ".py",
   "mimetype": "text/x-python",
   "name": "python",
   "nbconvert_exporter": "python",
   "pygments_lexer": "ipython3",
   "version": "3.7.4"
  }
 },
 "nbformat": 4,
 "nbformat_minor": 4
}
